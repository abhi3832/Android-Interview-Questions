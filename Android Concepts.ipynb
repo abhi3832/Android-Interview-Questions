{
 "cells": [
  {
   "metadata": {},
   "cell_type": "markdown",
   "source": "# _Manifest File Based_"
  },
  {
   "metadata": {},
   "cell_type": "markdown",
   "source": [
    "\n",
    "### 1. What is Manifest File in Android Apps ?\n",
    "        Manifest file is Like an Identification for a application just like a Id required for humans. It is basically a declaration sheet that tells the\n",
    "        program important details about the Application, package etc, so it knows how to handle them.\n",
    "\n",
    "        It contains :\n",
    "        1. App Meta Data (name, icons, version, min Sdk, etc...)\n",
    "        2. Permissions (all the permissions are declared here)\n",
    "        3. Activities (all the activity information must be present in the manifest file)\n",
    "        4. Services, Stattic BroadCasts and other Configurations..."
   ]
  },
  {
   "metadata": {},
   "cell_type": "markdown",
   "source": [
    "\n",
    "### 2. Can there be multiple Manifest File in a single App ?\n",
    "        Yes, there can be multiple manifest file in a single application. Each Module has its own manifest and so does the library dependencies.\n",
    "        When we build, gradle MERGES all the manifest files according to some MERGE RULES."
   ]
  },
  {
   "metadata": {},
   "cell_type": "markdown",
   "source": "# **Activity Based**"
  },
  {
   "metadata": {},
   "cell_type": "markdown",
   "source": "## Navigation and Transition Between Activities"
  },
  {
   "metadata": {},
   "cell_type": "markdown",
   "source": [
    "### Explain how navigation is handled between 2 activities !\n",
    "\n",
    "    A. If we DON'T expect the result back -\n",
    "        - val intent = Intent(this, SignInAct :: class.java)\n",
    "            startActivity(intent)\n",
    "        - if we wanna send some data then we can use the .apply{} extention function\n",
    "            Intent(this, SignInAct :: class.java).apply {\n",
    "                putExtra(Intent.Extra_Email, recipientArray)\n",
    "            }\n",
    "\n",
    "    B. If we expect the result Back -\n",
    "        - startActivityForResult(Intent,int) // here int is the requestCode\n",
    "        - result comes through onActivityResult(int,int,Intent) // requestCode, ResultCode, data\n"
   ]
  },
  {
   "metadata": {},
   "cell_type": "markdown",
   "source": [
    " ### Explain how the transition takes place b/w 2 Activities ?\n",
    "\n",
    "    - A Lanunches B\n",
    "    - A's onPause() is called\n",
    "    - B's onCreate(), onStart(), onResume() is executed\n",
    "    - if A is not at all visible, onStop() executed\n"
   ]
  },
  {
   "metadata": {},
   "cell_type": "markdown",
   "source": [
    "### During the Config Change, what is the sequence of Methods that follow ?\n",
    "\n",
    "    onPause()\n",
    "    onStop()\n",
    "    onDestroy()"
   ]
  },
  {
   "metadata": {},
   "cell_type": "markdown",
   "source": [
    "### What is the series of Methods that follow when a Dialog appears on top of Screen ?\n",
    "\n",
    "    if covers it completely :\n",
    "        onPause()\n",
    "        onStop()\n",
    "    if does not cover completely :\n",
    "        onPause()\n",
    "\n",
    "    But when the same activity comes to FOREGROUND :\n",
    "        onRestart()\n",
    "        onStart()\n",
    "        onResume()"
   ]
  },
  {
   "metadata": {},
   "cell_type": "markdown",
   "source": "## Activity Basics"
  },
  {
   "metadata": {},
   "cell_type": "markdown",
   "source": [
    "### What is an ACTIVITY in Android ?\n",
    "     It is a focussed Screen in Apps, where the user can INTERACT WITH the elements of UI like the buttons, card, lists etc.\n",
    "     It is basically an Entry Point of user interaction."
   ]
  },
  {
   "metadata": {},
   "cell_type": "markdown",
   "source": [
    "### What is the concept behind Activities in Android ?\n",
    "\n",
    "    1. Entry Point for a application is not always fixed.\n",
    "    2. an app may or may not be opened from the launcher activity always\n",
    "    3. As an activity of an application can be opened from another app/system"
   ]
  },
  {
   "metadata": {},
   "cell_type": "markdown",
   "source": [
    "### What are the 4 main Android Components ?\n",
    "\n",
    "    1. Activity\n",
    "    2. Services\n",
    "    3. BroadCast Recv\n",
    "    4. Content Provider"
   ]
  },
  {
   "metadata": {},
   "cell_type": "markdown",
   "source": [
    "### Explain all the Activity lifecycle methods ?\n",
    "\n",
    "    A. onCreate() :\n",
    "        - Here write a logic which has to be executed only once for the Entire lifecycle of the application\n",
    "        - example : Checking for App Updates, App Level DI etc...\n",
    "        - @onLifeCycleEvent is c/a LifeCycle aware component.\n",
    "\n",
    "        class MyOberver : LifeCycleObserver {\n",
    "             @onLifeCycleEvent(LifeCycle.onCreate())\n",
    "             fun onCreateEvent(){\n",
    "                println(\"Do Something)\n",
    "             }\n",
    "        }\n",
    "\n",
    "        - Register this oberserver class inside the main activity - lifecycle.addObservr(MyObserver())\n",
    "\n",
    "    B. onStart() :\n",
    "        - Activity is visible but not interActive\n",
    "\n",
    "    D. onResume() :\n",
    "        - Activity is visible and also interActive\n",
    "\n",
    "    E. onPause() :\n",
    "        - Activity is Partially visible.\n",
    "        - exmaple : When An alert dialog appears\n",
    "        - NOT advisable to save user data, make network calls or execute DB transactions as it does not give enough Time for these processes.\n",
    "\n",
    "    F. onStop() :\n",
    "        - Activity is completely hidden\n",
    "        - release resources\n",
    "\n",
    "    G. onDestry() :\n",
    "        - Activity is finishing or being destryoed by system\n",
    "        - Performs relatively cpu intensive shutdown operation here\n",
    "\n",
    "    H. OnRestart() :\n",
    "        - Activity being restarted after being stopped\n",
    "        - Release all the resources"
   ]
  },
  {
   "metadata": {},
   "cell_type": "markdown",
   "source": [
    "### What all does Component ACTIVITY do?\n",
    "     1. Manages the UI components and responds to the User Interaction.\n",
    "     2. Has its own LIFECYCLE METHODS\n",
    "     3. Implements the following interfaces : Lifecycle, viewmodel, SavedStateHandle.\n",
    "     4. Compose Ready (not tied to compose, only compose ready)\n",
    "\n",
    "    Without it, we would have to manually implement the interfaces it implements like VM, savedStateHandle, lifecycle methods."
   ]
  },
  {
   "metadata": {},
   "cell_type": "markdown",
   "source": [
    "### What is the Activity Architecture we follow in Modern Android Development ?\n",
    "    In Modern Android Dev, we follow a Single Activity Architecture. We have different Screens implemented as COMPOSABLES.\n",
    "\n",
    "    Benefits :\n",
    "    1. Easy Navigation Handling (don't have to manage each multiple activity back stacks)\n",
    "    2. Shared ViewModels (Easy to Manage and share states as a ViewModel is tied to a ViewModelStoreOwner (usually an Activity))\n",
    "    3. In multi-activity architecture, when you navigate to another activity, the old activity (and its ViewModel) gets destroyed unless you\n",
    "        explicitly persist data somewhere else.\n",
    "    4. No need to pass data between acivities using Intents."
   ]
  },
  {
   "metadata": {},
   "cell_type": "markdown",
   "source": [
    "### What is the Concept of Layout Inflation (like in XML) in Compose ?\n",
    "    1. The set content {}  present un MainActivity takes a composable as the root composable\n",
    "    2. It creates a ROOT COMPOSABLE inside the activity\n",
    "    3. hooks the composable lifecycle to Activity Cycle\n",
    "    4. Manages Recomposition when State Changes."
   ]
  },
  {
   "metadata": {},
   "cell_type": "markdown",
   "source": "## BackStack and Tasks"
  },
  {
   "metadata": {},
   "cell_type": "markdown",
   "source": [
    "### What happens when a user taps back button ?\n",
    "\n",
    "    The following lifecycle methods are executed :\n",
    "    1. onPause()\n",
    "    2. onStop()\n",
    "    3. onDestroy() and removed from the back stack\n",
    "\n",
    "    Note : onSaveInstance() does not fire in this case, as the system doesn't expect the user to return to the same activity again."
   ]
  },
  {
   "metadata": {},
   "cell_type": "markdown",
   "source": [
    "### What happens to backstack when a new Activity is launched from another activity ?\n",
    "\n",
    "    1. When A launched B, B is pushed to TOS and onStop() is called for Activtiy A\n",
    "    2. Before onStop() is called, it retains its state.\n",
    "    3. when pressed back, B is popped off the TOS, A then resumes & the state is restored."
   ]
  },
  {
   "metadata": {},
   "cell_type": "markdown",
   "source": [
    "### What happens when you press back on the MainActivity or the Launcher ?\n",
    "\n",
    "    Borfore Android 11 :\n",
    "        The system would finish the activity\n",
    "    After :\n",
    "        Sends it into Warn State instead of cold state where the users have to restart the App\n",
    "\n",
    "\n",
    "    Note :\n",
    "        1. using the AndroidX Activity Api, it auto defers to appropriate syatem behavior if there are no components overrididng the system back tap.\n",
    "        2. Else if we use onBackPressed(), use super.onBackPressed(), as it moves the task to BG when appropriate."
   ]
  },
  {
   "metadata": {},
   "cell_type": "markdown",
   "source": [
    "### How do we define launch Modes ?\n",
    "\n",
    "    There are 2 ways to define it.\n",
    "\n",
    "    A. Using Manifest file -\n",
    "        When we declare an act in manifest file, we can specify how the Act associates when it starts.\n",
    "\n",
    "    B . Using Intent flag -\n",
    "        After calling the startActivity() include flag in the Intent that declares how the new activity associates with the current task."
   ]
  },
  {
   "metadata": {},
   "cell_type": "markdown",
   "source": [
    "### Define the launch Modes in Manifest file ?\n",
    "\n",
    "    A. Standard :\n",
    "        - Default Mode\n",
    "        - Act can be instantiated multi times.\n",
    "        - each belong to different tasks that launch it.\n",
    "\n",
    "    B. SingleTop :\n",
    "        - if a instance already exists at TOS of the current task, the system Routes the intent to that instance through a call to its onNewIntent() Method.\n",
    "        - example : Currentt Task - ABCD\n",
    "            a new intent arrives for Activity D. So it would route the intent to the already existing D instance\n",
    "            if a new instacne arrives for activity B, the stack would be A B C D B\n",
    "\n",
    "    C. SingleTask :\n",
    "        - only 1 existence of that act can exist in that TASK\n",
    "        - if it already exists, it does not create a new one, instead it sends a newIntent to the existing instance.\n",
    "        - All act above it are cleared (becomes the TOS)\n",
    "        - if it doesn't exist, it creates a new one in a new task(becomes the root act of the new task)\n",
    "\n",
    "    D. SingleInstance :\n",
    "        - Similar to Singletask, except the system doesn't launch any other act into the task holding the instance\n",
    "        - the act is the only member of the task\n",
    "        - any act started by this act, opens in a different task\n",
    "        -\n",
    "\n",
    "    E. SingleInstance Per Task :\n",
    "       - the act that runs only as root act of the task'\n",
    "       - this activity can be started in multiple instance in different tasks if proper flag is set.\n",
    "       - similar to singke task, it clears all the act above it\n",
    "       - EXAMPLE - map : each route opens in different task\n"
   ]
  },
  {
   "metadata": {},
   "cell_type": "markdown",
   "source": [
    "### Define launch Modes using the Intent Flags !!\n",
    "\n",
    "    Note: The behaviors that you specify for your activity with the launchMode attribute can be overridden by flags included\n",
    "            with the intent that start your activity.\n",
    "\n",
    "    A. FLAG_ACTIVITY_NEW_TASK :\n",
    "        - The system starts the activity in a new task.\n",
    "        - If a task is already running for the activity being started, that task is brought to the foreground with its last state restored\n",
    "        - the activity receives the new intent in onNewIntent().\n",
    "        - This produces the same behavior as the \"singleTask\" launchMode value discussed in the preceding section\n",
    "\n",
    "    B. FLAG_ACTIVITY_SINGLE_TOP :\n",
    "        - If the activity being started is the current activity, at the top of the back stack, then the existing\n",
    "            instance receives a call to onNewIntent() instead of creating a new instance of the activity.\n",
    "        - This produces the same behavior as the \"singleTop\" launchMode value discussed in the preceding section\n",
    "\n",
    "    C. FLAG_ACTIVITY_CLEAR_TOP :\n",
    "        - If the activity being started is already running in the current task, then—instead of launching a new instance of that activity—the system destroys all the other activities on top of it. The intent is delivered to the resumed instance of the activity, now on top, through onNewIntent()\n",
    "        - FLAG_ACTIVITY_CLEAR_TOP is most often used in conjunction with FLAG_ACTIVITY_NEW_TASK. When used together, these flags locate an existing\n",
    "          activity in another task and put it in a position where it can respond to the intent."
   ]
  },
  {
   "metadata": {},
   "cell_type": "markdown",
   "source": "# **Intent Related**"
  },
  {
   "metadata": {},
   "cell_type": "markdown",
   "source": [
    "### What is an Intent ?\n",
    "    Intents are MESSAGING objects, which are used to communicate with another App Components.\n",
    "\n",
    "    USES -\n",
    "    1. Start An Activity\n",
    "    2. Run a service\n",
    "    3. Deliver a broadcast"
   ]
  },
  {
   "metadata": {},
   "cell_type": "markdown",
   "source": [
    "### What are the components of an intent ?\n",
    "\n",
    "    A. Action\n",
    "    B. Component Name\n",
    "    C. Data\n",
    "    D. Category\n",
    "    E. Extras\n",
    "    F. Flags"
   ]
  },
  {
   "metadata": {},
   "cell_type": "markdown",
   "source": [
    "### What are the types of Intent ?\n",
    "     A. Explicit -\n",
    "        Used to communicate within the same app, example : To Move between different activties or services\n",
    "\n",
    "        // Executed in an Activity, so 'this' is the Context\n",
    "        // The fileUrl is a string URL, such as \"http://www.example.com/image.png\"\n",
    "        val downloadIntent = Intent(this, DownloadService::class.java).apply {\n",
    "            data = Uri.parse(fileUrl)\n",
    "        }\n",
    "        startService(downloadIntent)\n",
    "\n",
    "\n",
    "     B. Implicit -\n",
    "        - Declares a general action to perform & Android Decides which Component can handle it (shows options when you click on pdf, diff apps are shown)\n",
    "        - When you use an implicit intent, the Android system finds the appropriate component to start by comparing the contents of the\n",
    "            intent to the intent filters declared in the manifest file of other apps on the device\n",
    "\n",
    "\n",
    "        // Create the text message with a string.\n",
    "        val sendIntent = Intent().apply {\n",
    "            action = Intent.ACTION_SEND\n",
    "            putExtra(Intent.EXTRA_TEXT, textMessage)\n",
    "            type = \"text/plain\"\n",
    "        }\n",
    "\n",
    "        // Try to invoke the intent.\n",
    "        try {\n",
    "            startActivity(sendIntent)\n",
    "        } catch (e: ActivityNotFoundException) {\n",
    "            // Define what your app should do if no activity can handle the intent.\n",
    "        }\n",
    "\n",
    "     Other Types -\n",
    "     1. BroadCast Intent : Used to deliver system wide app announcements\n",
    "     2. Pending Intent : For future Work, like alarms, scheduled notification"
   ]
  },
  {
   "metadata": {},
   "cell_type": "markdown",
   "source": [
    "### What are some actions to start some activity ?\n",
    "\n",
    "    A. ACTION_VIEW\n",
    "        - Use this action in an intent with startActivity() when you have some information that an activity can show to the user, such as a photo to\n",
    "            view in a gallery app, or an address to view in a map app.\n",
    "\n",
    "    B. ACTION_SEND\n",
    "        - Also known as the share intent, you should use this in an intent with startActivity() when you have some data that the user\n",
    "            can share through another app, such as an email app or social sharing app.\n",
    "\n",
    "    and many more ...\n",
    "\n"
   ]
  },
  {
   "metadata": {},
   "cell_type": "markdown",
   "source": [
    "### What is Component Name ?\n",
    "\n",
    "    The name of the component to start.\n",
    "\n",
    "     - This is optional, but it's the critical piece of information that makes an intent explicit,\n",
    "     - meaning that the intent should be delivered only to the app component defined by the component name.\n",
    "     - Without a component name, the intent is implicit and the system decides which component should receive the intent\n",
    "        based on the other intent information (such as the action, data, and category—described below).\n",
    "     - If you need to start a specific component in your app, you should specify the component name."
   ]
  },
  {
   "metadata": {},
   "cell_type": "markdown",
   "source": [
    "### Data in Intents !\n",
    "\n",
    "    - When creating an intent, it's often important to specify the type of data (its MIME type) in addition to its URI.\n",
    "    - example, an activity that's able to display images probably won't be able to play an audio file, even though the URI formats could be similar.\n",
    "    - Specifying the MIME type of your data helps the Android system find the best component to receive your intent.\n",
    "    - To set only the data URI, call setData(). To set only the MIME type, call setType(). If necessary, you can set both explicitly with setDataAndType()."
   ]
  },
  {
   "metadata": {},
   "cell_type": "markdown",
   "source": [
    "### what are the categories in Intent ?\n",
    "\n",
    "    - A string containing additional information about the kind of component that should handle the intent.\n",
    "    - Any number of category descriptions can be placed in an intent, but most intents do not require a category. Here are some common categories:\n",
    "\n",
    "    CATEGORY_BROWSABLE\n",
    "        The target activity allows itself to be started by a web browser to display data referenced by a link, such as an image or an e-mail message.\n",
    "    CATEGORY_LAUNCHER\n",
    "        The activity is the initial activity of a task and is listed in the system's application launcher.\n",
    "\n",
    "    You can specify a category with addCategory()"
   ]
  },
  {
   "metadata": {},
   "cell_type": "markdown",
   "source": "# **Services Related**"
  },
  {
   "metadata": {},
   "cell_type": "markdown",
   "source": [
    "### What are services ?\n",
    "    Taskes that run in the Background to perform Long Running Operations without the UI. Useful for taks which should continue even if the app is closed\n",
    "    or user does not interact with App.\n",
    "\n",
    "    Examples : Background Music Play, Downloading something, Syncing contacts with the server"
   ]
  },
  {
   "metadata": {},
   "cell_type": "markdown",
   "source": [
    "### What are the types of services ?\n",
    "    A. ForeGround :\n",
    "        Runs in foreground with persistent notification\n",
    "        ex : Downlaod Manager Showing Progess\n",
    "\n",
    "    B. BackGround :\n",
    "        Runs Until stopped\n",
    "        ex : Music Playback in background."
   ]
  },
  {
   "metadata": {},
   "cell_type": "markdown",
   "source": "    # **BroadCast related**"
  },
  {
   "metadata": {},
   "cell_type": "markdown",
   "source": ""
  },
  {
   "metadata": {},
   "cell_type": "markdown",
   "source": [
    "### What is a broadcast ?\n",
    "    It is a system wide message that any apps or components can send or receive about an event or trigger."
   ]
  },
  {
   "metadata": {},
   "cell_type": "markdown",
   "source": [
    "### What is a broadcast Receiver?\n",
    "    Android Component that allows an app to lsiten to system wide events without needing to run in background.\n",
    "    BoradCast recv listens for any such messages runs a code when it comes.\n",
    "\n",
    "    example : Battery Low, Connectivty Change, On boot Complete.\n"
   ]
  },
  {
   "metadata": {},
   "cell_type": "markdown",
   "source": [
    "### What are the types of BroadCast Receivers ?\n",
    "    A. Static :\n",
    "        Declared Inside Manifest. ex : On boot completed.\n",
    "    B. Dynamic :\n",
    "        Written inside code. ex : Connectivity Change."
   ]
  },
  {
   "metadata": {},
   "cell_type": "markdown",
   "source": "# **Content Provider Related**"
  },
  {
   "metadata": {},
   "cell_type": "markdown",
   "source": [
    "### What is Content Provider ?\n",
    "    Android Component that manages & shares structured data B/W apps. Acts like a middleMan.\n",
    "\n",
    "    Uses A URI(Uniform Resource Id.)\n",
    "    Access cam be restricted using Permissions\n",
    "\n",
    "    Example :\n",
    "        The contact App provides Contact data through Contacs Contract Provider. Whatsapp can query it to get the comtacts ONLY IF\n",
    "        it has the required PERMISSIONS."
   ]
  },
  {
   "metadata": {},
   "cell_type": "markdown",
   "source": "# **Navigation Based**"
  },
  {
   "metadata": {},
   "cell_type": "markdown",
   "source": "## Nested Graph"
  },
  {
   "metadata": {},
   "cell_type": "markdown",
   "source": [
    "### Explain how the nested navigation works ?\n",
    "\n",
    "\n",
    "    @Composable\n",
    "    fun RootNavGraph(\n",
    "        authViewModel: AuthViewModel,\n",
    "        userViewModel: UserViewModel,\n",
    "        connectViewModel: ConnectViewModel,\n",
    "        connectChatViewModel: ConnectChatViewModel,\n",
    "        messageViewModel: MessageViewModel\n",
    "    ) {\n",
    "\n",
    "    val rootNavController = rememberNavController()\n",
    "\n",
    "    NavHost(navController = rootNavController, route = Graphs.ROOTGRAPH,\n",
    "        startDestination = \"something\"\n",
    "    ){\n",
    "        authGraph(rootNavController, authViewModel, userViewModel) // ----------- this is a NESTED graph\n",
    "        onBoardingGraph(rootNavController,authViewModel,userViewModel)\n",
    "\n",
    "        // ------- this is a seperate NavHost\n",
    "\n",
    "        composable(Graphs.MAINNAVGRAPH) { MainScreen(rootNavController, authViewModel, userViewModel,connectViewModel, connectChatViewModel, messageViewModel) }\n",
    "\n",
    "        composable(\n",
    "            route = ConnectChatDetailScreen.DetailScreen.route,\n",
    "            arguments = listOf(\n",
    "                navArgument(\"chatId\") { type = NavType.StringType }\n",
    "            )\n",
    "        ) { backStackEntry ->\n",
    "            val chatId = backStackEntry.arguments?.getString(\"chatId\") ?: \"\"\n",
    "            ConnectChatScreen(chatId, rootNavController,connectViewModel,connectChatViewModel, userViewModel, messageViewModel)\n",
    "        }\n",
    "    }\n",
    "    }\n",
    "\n",
    "    // NESTED graph\n",
    "    fun NavGraphBuilder.authGraph(\n",
    "        rootNavController: NavHostController,\n",
    "        authViewModel: AuthViewModel,\n",
    "        userViewModel: UserViewModel\n",
    "    )\n",
    "    {\n",
    "\n",
    "\n",
    "        navigation(route = Graphs.AUTHGRAPH, startDestination = AuthScreens.PhoneVerification.route){\n",
    "            composable(AuthScreens.PhoneVerification.route){\n",
    "                PhoneVerificationScreen(rootNavController, authViewModel, userViewModel)\n",
    "            }\n",
    "        }\n",
    "    }\n",
    "\n",
    "    // seperate NAVHOST\n",
    "    @Composable\n",
    "    fun MainNavGraph(\n",
    "        mainNavController: NavHostController,\n",
    "        rootNavController: NavHostController,\n",
    "        authViewModel: AuthViewModel,\n",
    "        userViewModel: UserViewModel,\n",
    "        connectViewModel: ConnectViewModel,\n",
    "        connectChatViewModel: ConnectChatViewModel,\n",
    "        messageViewModel: MessageViewModel\n",
    "    ) {\n",
    "        NavHost(\n",
    "             navController = mainNavController,\n",
    "            route = Graphs.MAINNAVGRAPH,\n",
    "            startDestination = MainNavScreens.ChatScreen.route\n",
    "        ) {\n",
    "            composable(MainNavScreens.ChatScreen.route) { HomeScreen(mainNavController, rootNavController) }\n",
    "            composable(MainNavScreens.ConnectScreen.route) { ConnectScreen(mainNavController, rootNavController,connectViewModel,userViewModel, connectChatViewModel) }\n",
    "            composable(MainNavScreens.ProfileScreen.route) { ProfileScreen(mainNavController, rootNavController, authViewModel, userViewModel) }\n",
    "            composable(MainNavScreens.HistoryScreen.route) { HistoryScreen(mainNavController, rootNavController, connectViewModel,userViewModel, connectChatViewModel) }\n",
    "            composable(MainNavScreens.NotificationScreen.route) { InboxScreen(mainNavController, rootNavController) }\n",
    "        }\n",
    "    }\n",
    "\n"
   ]
  },
  {
   "metadata": {},
   "cell_type": "markdown",
   "source": "## DeepLink Based"
  },
  {
   "metadata": {},
   "cell_type": "markdown",
   "source": [
    "### What is a deep link in android ?\n",
    "\n",
    "    - In Android, a deep link is a link that takes you directly to a specific destination within an app.\n",
    "    - The Navigation component lets you create two different types of deep links: explicit and implicit.\n",
    "\n",
    "     - compose example : composable(\n",
    "          \"profile/{userId}\",\n",
    "          deepLinks = listOf(navDeepLink { uriPattern = \"https://www.example.com/profile/{userId}\" })\n",
    "        ) { backStackEntry ->\n",
    "          val id = backStackEntry.arguments?.getString(\"userId\")\n",
    "          ProfileScreen(userId = id)\n",
    "        }\n",
    "\n",
    "    - <activity android:name=\".ProfileActivity\">\n",
    "      <intent-filter>\n",
    "        <action android:name=\"android.intent.action.VIEW\" />\n",
    "        <category android:name=\"android.intent.category.DEFAULT\" />\n",
    "        <category android:name=\"android.intent.category.BROWSABLE\" />\n",
    "        <data android:scheme=\"https\"\n",
    "              android:host=\"www.example.com\"\n",
    "              android:pathPrefix=\"/profile\" />\n",
    "      </intent-filter>\n",
    "    </activity>\n",
    "\n",
    "    1. Explicit Deep Links\n",
    "\n",
    "        These are direct links to a specific destination in your app’s navigation graph.\n",
    "\n",
    "        You define them in the navigation graph XML (or in code) and they always know exactly which screen to open.\n",
    "\n",
    "        Example:\n",
    "\n",
    "        You add a deep link to ChatScreen in your navigation graph.\n",
    "\n",
    "        If an intent with app://myapp/chat/123 is received, Navigation will directly navigate to ChatScreen with the correct arguments.\n",
    "\n",
    "        ✅ Always reliable, used when you know the exact destination.\n",
    "\n",
    "    2. Implicit Deep Links\n",
    "\n",
    "        These are intent filters you declare in your app’s manifest (AndroidManifest.xml).\n",
    "\n",
    "        They allow your app to respond to external URLs or app links.\n",
    "\n",
    "        Example:\n",
    "\n",
    "        You add an intent filter for https://www.myapp.com/profile/*.\n",
    "\n",
    "        When the user clicks such a link from email, browser, or another app, Android checks which apps can handle it. If your app is installed, the system can launch it.\n",
    "\n",
    "        ✅ Good for external entry points into your app.\n",
    "\n"
   ]
  },
  {
   "metadata": {},
   "cell_type": "markdown",
   "source": [
    "### how do you handle android App Links?\n",
    "\n",
    "    Deep links :\n",
    "        - Deep links are URIs of any scheme that take users directly to a specific part of your app. To create deep links,\n",
    "        add intent filters to drive users to the right activity in your app\n",
    "\n",
    "    Web links :\n",
    "        - Web links are deep links that use the HTTP and HTTPS schemes.\n",
    "        they'll see a disambiguation dialog\n",
    "\n",
    "    Android App Links :\n",
    "        - Android App Links, available on Android 6.0 (API level 23) and higher, are web links that use\n",
    "            the HTTP and HTTPS schemes and contain the autoVerify attribute.\n",
    "        - This attribute allows your app to designate itself as the default handler of a given type of link"
   ]
  },
  {
   "metadata": {},
   "cell_type": "markdown",
   "source": "## Type Safe Navigation"
  },
  {
   "metadata": {},
   "cell_type": "markdown",
   "source": [
    "### What is type safe navigation and its benefits ?\n",
    "\n",
    "    // Define a home route that doesn't take any arguments\n",
    "    @Serializable\n",
    "    object Home\n",
    "\n",
    "    // Define a profile route that takes an ID\n",
    "    @Serializable\n",
    "    data class Profile(val id: String)\n",
    "\n",
    "    NavHost(navController, startDestination = Home) {\n",
    "         composable<Home> {\n",
    "             HomeScreen(onNavigateToProfile = { id ->\n",
    "                 navController.navigate(Profile(id))\n",
    "             })\n",
    "         }\n",
    "         composable<Profile> { backStackEntry ->\n",
    "             val profile: Profile = backStackEntry.toRoute()\n",
    "             ProfileScreen(profile.id)\n",
    "         }\n",
    "    }\n",
    "\n",
    "    navController.navigate(Profile(id = 123))\n"
   ]
  },
  {
   "metadata": {},
   "cell_type": "markdown",
   "source": [
    "### Encapsulate navigation events\n",
    "\n",
    "    - Encapsulate your navigation code for a related set of screens by placing it in a separate file\n",
    "    - Expose destinations by creating extension functions on NavGraphBuilder\n",
    "    - Expose navigation events by creating extension functions on NavController\n",
    "\n",
    "    // ContactsNavigation.kt\n",
    "\n",
    "    fun NavController.navigateToContactDetails(id: String) {\n",
    "      navigate(route = ContactDetails(id = id))\n",
    "    }\n",
    "\n",
    "    // MyApp.kt\n",
    "\n",
    "    @Composable\n",
    "    fun MyApp() {\n",
    "      ...\n",
    "      NavHost(navController, startDestination = Contacts) {\n",
    "         contactsDestination(onNavigateToContactDetails = { contactId ->\n",
    "            navController.navigateToContactDetails(id = contactId)\n",
    "         })\n",
    "         contactDetailsDestination()\n",
    "      }\n",
    "    }\n",
    "\n"
   ]
  },
  {
   "metadata": {},
   "cell_type": "markdown",
   "source": [
    "### Never Pass navController to your composables\n",
    "\n",
    "    Warning: Don't pass your NavController to your composables. Expose an event instead."
   ]
  },
  {
   "metadata": {},
   "cell_type": "markdown",
   "source": ""
  }
 ],
 "metadata": {
  "kernelspec": {
   "display_name": "Kotlin",
   "language": "kotlin",
   "name": "kotlin"
  },
  "language_info": {
   "name": "kotlin",
   "version": "1.9.23",
   "mimetype": "text/x-kotlin",
   "file_extension": ".kt",
   "pygments_lexer": "kotlin",
   "codemirror_mode": "text/x-kotlin",
   "nbconvert_exporter": ""
  }
 },
 "nbformat": 4,
 "nbformat_minor": 0
}
