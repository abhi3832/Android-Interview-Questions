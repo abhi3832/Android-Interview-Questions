{
 "cells": [
  {
   "metadata": {},
   "cell_type": "markdown",
   "source": "# _Manifest File Based_"
  },
  {
   "metadata": {},
   "cell_type": "markdown",
   "source": [
    "\n",
    "### 1. What is Manifest File in Android Apps ?\n",
    "        Manifest file is Like an Identification for a application just like a Id required for humans. It is basically a declaration sheet that tells the\n",
    "        program important details about the Application, package etc, so it knows how to handle them.\n",
    "\n",
    "        It contains :\n",
    "        1. App Meta Data (name, icons, version, min Sdk, etc...)\n",
    "        2. Permissions (all the permissions are declared here)\n",
    "        3. Activities (all the activity information must be present in the manifest file)\n",
    "        4. Services, Stattic BroadCasts and other Configurations..."
   ]
  },
  {
   "metadata": {},
   "cell_type": "markdown",
   "source": [
    "\n",
    "### 2. Can there be multiple Manifest File in a single App ?\n",
    "        Yes, there can be multiple manifest file in a single application. Each Module has its own manifest and so does the library dependencies.\n",
    "        When we build, gradle MERGES all the manifest files according to some MERGE RULES."
   ]
  },
  {
   "metadata": {},
   "cell_type": "markdown",
   "source": "# **Activity Based**"
  },
  {
   "metadata": {},
   "cell_type": "markdown",
   "source": [
    "### What is an ACTIVITY in Android ?\n",
    "     It is a focussed Screen in Apps, where the user can INTERACT WITH the elements of UI like the buttons, card, lists etc.\n",
    "     It is basically an Entry Point of user interaction."
   ]
  },
  {
   "metadata": {},
   "cell_type": "markdown",
   "source": [
    "### What all does Component ACTIVITY do?\n",
    "     1. Manages the UI components and responds to the User Interaction.\n",
    "     2. Has its own LIFECYCLE METHODS\n",
    "     3. Implements the following interfaces : Lifecycle, viewmodel, SavedStateHandle.\n",
    "     4. Compose Ready (not tied to compose, only compose ready)\n",
    "\n",
    "    Without it, we would have to manually implement the interfaces it implements like VM, savedStateHandle, lifecycle methods."
   ]
  },
  {
   "metadata": {},
   "cell_type": "markdown",
   "source": [
    "### What is the Activity Architecture we follow in Modern Android Development ?\n",
    "    In Modern Android Dev, we follow a Single Activity Architecture. We have different Screens implemented as COMPOSABLES.\n",
    "\n",
    "    Benefits :\n",
    "    1. Easy Navigation Handling (don't have to manage each multiple activity back stacks)\n",
    "    2. Shared ViewModels (Easy to Manage and share states as a ViewModel is tied to a ViewModelStoreOwner (usually an Activity))\n",
    "    3. In multi-activity architecture, when you navigate to another activity, the old activity (and its ViewModel) gets destroyed unless you\n",
    "        explicitly persist data somewhere else.\n",
    "    4. No need to pass data between acivities using Intents."
   ]
  },
  {
   "metadata": {},
   "cell_type": "markdown",
   "source": [
    "### What is the Concept of Layout Inflation (like in XML) in Compose ?\n",
    "    1. The set content {}  present un MainActivity takes a composable as the root composable\n",
    "    2. It creates a ROOT COMPOSABLE inside the activity\n",
    "    3. hooks the composable lifecycle to Activity Cycle\n",
    "    4. Manages Recomposition when State Changes."
   ]
  },
  {
   "metadata": {},
   "cell_type": "markdown",
   "source": "# **Intent Related**"
  },
  {
   "metadata": {},
   "cell_type": "markdown",
   "source": [
    "### What is an Intent ?\n",
    "    Intents are MESSAGING objects, which are used to communicate with another App Components.\n",
    "\n",
    "    USES -\n",
    "    1. Start An Activity\n",
    "    2. Run a service\n",
    "    3. Deliver a broadcast"
   ]
  },
  {
   "metadata": {},
   "cell_type": "markdown",
   "source": [
    "### What are the types of Intent ?\n",
    "     A. Explicit -\n",
    "        Used to communicate within the same app, example : To Move between different activties or services\n",
    "     B. Implicit -\n",
    "        Declares a general action to perform & Android Decides which Component can handle it (shows options when you click on pdf, diff apps are shown)\n",
    "\n",
    "     Other Types -\n",
    "     1. BroadCast Intent : Used to deliver system wide app announcements\n",
    "     2. Pending Intent : For future Work, like alarms, scheduled notification"
   ]
  },
  {
   "metadata": {},
   "cell_type": "markdown",
   "source": "# **Services Related**"
  },
  {
   "metadata": {},
   "cell_type": "markdown",
   "source": [
    "### What are services ?\n",
    "    Taskes that run in tne Background to perform Long Running Operations without the UI. Useful for taks which should continue even if the app is closed\n",
    "    or user does not interact with App.\n",
    "\n",
    "    Examples : Background Music Play, Downlaoding something, Syncing contacts with the server"
   ]
  },
  {
   "metadata": {},
   "cell_type": "markdown",
   "source": [
    "### What are the types of services ?\n",
    "    A. ForeGround :\n",
    "        Runs in foreground with persistent notification\n",
    "        ex : Downlaod Manager Showing Progess\n",
    "\n",
    "    B. BackGround :\n",
    "        Runs Until stopped\n",
    "        ex : Music Playback in background."
   ]
  },
  {
   "metadata": {},
   "cell_type": "markdown",
   "source": "# **BroadCast related**"
  },
  {
   "metadata": {},
   "cell_type": "markdown",
   "source": ""
  },
  {
   "metadata": {},
   "cell_type": "markdown",
   "source": [
    "### What is a broadcast ?\n",
    "    It is a system wide message that any apps or components can send or receive about an event or trigger."
   ]
  },
  {
   "metadata": {},
   "cell_type": "markdown",
   "source": [
    "### What is a broadcast Receiver?\n",
    "    Android Component that allows an app to lsiten to system wide events without needing to run in background.\n",
    "    BoradCast recv listens for any such messages runs a code when it comes.\n",
    "\n",
    "    example : Battery Low, Connectivty Change, On boot Complete.\n"
   ]
  },
  {
   "metadata": {},
   "cell_type": "markdown",
   "source": [
    "### What are the types of BroadCast Receivers ?\n",
    "    A. Static :\n",
    "        Declared Inside Manifest. ex : On boot completed.\n",
    "    B. Dynamic :\n",
    "        Written inside code. ex : Connectivity Change."
   ]
  },
  {
   "metadata": {},
   "cell_type": "markdown",
   "source": "# Content Provider Related"
  },
  {
   "metadata": {},
   "cell_type": "markdown",
   "source": [
    "### What is Content Provider ?\n",
    "    Android Component that manages & shares structured data B/W apps. Acts like a middleMan.\n",
    "\n",
    "    Uses A URI(Uniform Resource Id.)\n",
    "    Access cam be restricted using Permissions\n",
    "\n",
    "    Example :\n",
    "        The contact App provides Contact data through Contacs Contract Provider. Whatsapp can query it to get the comtacts ONLY IF\n",
    "        it has the required PERMISSIONS."
   ]
  }
 ],
 "metadata": {
  "kernelspec": {
   "display_name": "Kotlin",
   "language": "kotlin",
   "name": "kotlin"
  },
  "language_info": {
   "name": "kotlin",
   "version": "1.9.23",
   "mimetype": "text/x-kotlin",
   "file_extension": ".kt",
   "pygments_lexer": "kotlin",
   "codemirror_mode": "text/x-kotlin",
   "nbconvert_exporter": ""
  }
 },
 "nbformat": 4,
 "nbformat_minor": 0
}
